{
 "cells": [
  {
   "cell_type": "markdown",
   "id": "interim-accident",
   "metadata": {},
   "source": [
    "# Instagram API "
   ]
  },
  {
   "cell_type": "code",
   "execution_count": 829,
   "id": "hundred-injection",
   "metadata": {},
   "outputs": [],
   "source": [
    "import json \n",
    "import requests \n",
    "import pandas as pd\n",
    "import functions_insta_api as f "
   ]
  },
  {
   "cell_type": "markdown",
   "id": "forbidden-zoning",
   "metadata": {},
   "source": [
    "## Credentials "
   ]
  },
  {
   "cell_type": "code",
   "execution_count": 48,
   "id": "colonial-landing",
   "metadata": {},
   "outputs": [],
   "source": [
    "creds = dict() \n",
    "creds['access_token'] = \"\"\n",
    "creds['client_id'] =''\n",
    "creds['client_secret'] =''\n",
    "creds['graph_domain'] = 'https://graph.facebook.com/'\n",
    "creds['version'] = 'v10.0'\n",
    "creds['endpoint_base'] = creds['graph_domain'] + creds['version'] +'/'\n",
    "creds['debug'] = 'No'"
   ]
  },
  {
   "cell_type": "markdown",
   "id": "civic-surge",
   "metadata": {},
   "source": [
    "## Getting fb ID and instagram business ID"
   ]
  },
  {
   "cell_type": "code",
   "execution_count": 363,
   "id": "imperial-biodiversity",
   "metadata": {},
   "outputs": [],
   "source": [
    "def get_fb_id(): \n",
    "    url = creds['endpoint_base'] +'me/accounts'\n",
    "    params = dict()\n",
    "    params['access_token'] = creds['access_token']\n",
    "    response = requests.get(url,params)\n",
    "    data = json.loads(response.content)\n",
    "    fb_id = data['data'][0]['id']\n",
    "    return fb_id"
   ]
  },
  {
   "cell_type": "code",
   "execution_count": 831,
   "id": "alternate-combat",
   "metadata": {},
   "outputs": [],
   "source": [
    "creds['fb_id'] = get_fb_id()"
   ]
  },
  {
   "cell_type": "code",
   "execution_count": 381,
   "id": "straight-birthday",
   "metadata": {},
   "outputs": [],
   "source": [
    "def get_insta_business_id(): \n",
    "    insta_business_id_url = creds['graph_domain']+creds['version']+'/'+ fb_id\n",
    "    insta_params = dict()\n",
    "    insta_params['fields'] = 'instagram_business_account'\n",
    "    insta_params['access_token'] = creds['access_token']\n",
    "    response = requests.get(insta_business_id_url,insta_params )\n",
    "    data = json.loads(response.content)\n",
    "    return data['instagram_business_account']['id']"
   ]
  },
  {
   "cell_type": "code",
   "execution_count": 384,
   "id": "attached-accused",
   "metadata": {},
   "outputs": [],
   "source": [
    "creds['instagram_business_account_id'] = get_insta_business_id()"
   ]
  },
  {
   "cell_type": "markdown",
   "id": "crude-failure",
   "metadata": {},
   "source": [
    "## Business Account"
   ]
  },
  {
   "cell_type": "code",
   "execution_count": 676,
   "id": "backed-immune",
   "metadata": {},
   "outputs": [],
   "source": [
    "def get_business_account_info(username): \n",
    "    business_url = creds['graph_domain']+creds['version']+'/'+creds['instagram_business_account_id']\n",
    "    business_params = dict() \n",
    "    business_params['fields']= \"business_discovery.username(\"+username +\"){username,follows_count,followers_count,media_count}\"\n",
    "    business_params['access_token'] = creds['access_token']\n",
    "    response = requests.get(business_url,business_params)\n",
    "    data =json.loads(response.content)\n",
    "    return data \n",
    "    \n",
    "    \n",
    "    "
   ]
  },
  {
   "cell_type": "code",
   "execution_count": 677,
   "id": "shared-repeat",
   "metadata": {},
   "outputs": [],
   "source": [
    "def clean_data(data): \n",
    "    data.pop('id') \n",
    "    data['business_discovery'].pop('id')\n",
    "    df = pd.DataFrame.from_dict(data,orient = 'index')\n",
    "    df = df.reset_index(drop = True)\n",
    "    return df "
   ]
  },
  {
   "cell_type": "code",
   "execution_count": 836,
   "id": "wireless-leave",
   "metadata": {},
   "outputs": [],
   "source": [
    "info_df = get_business_account_info('its_so_london')"
   ]
  },
  {
   "cell_type": "code",
   "execution_count": 838,
   "id": "organized-holly",
   "metadata": {},
   "outputs": [
    {
     "data": {
      "text/plain": [
       "{'business_discovery': {'username': 'its_so_london',\n",
       "  'follows_count': 674,\n",
       "  'followers_count': 504430,\n",
       "  'media_count': 3177,\n",
       "  'id': '17841404827065682'},\n",
       " 'id': '17841439538748018'}"
      ]
     },
     "execution_count": 838,
     "metadata": {},
     "output_type": "execute_result"
    }
   ],
   "source": [
    "info_df"
   ]
  },
  {
   "cell_type": "code",
   "execution_count": 840,
   "id": "increased-journalist",
   "metadata": {},
   "outputs": [],
   "source": [
    "info_df = clean_data(info_df)"
   ]
  },
  {
   "cell_type": "code",
   "execution_count": 842,
   "id": "honey-harrison",
   "metadata": {},
   "outputs": [
    {
     "data": {
      "text/html": [
       "<div>\n",
       "<style scoped>\n",
       "    .dataframe tbody tr th:only-of-type {\n",
       "        vertical-align: middle;\n",
       "    }\n",
       "\n",
       "    .dataframe tbody tr th {\n",
       "        vertical-align: top;\n",
       "    }\n",
       "\n",
       "    .dataframe thead th {\n",
       "        text-align: right;\n",
       "    }\n",
       "</style>\n",
       "<table border=\"1\" class=\"dataframe\">\n",
       "  <thead>\n",
       "    <tr style=\"text-align: right;\">\n",
       "      <th></th>\n",
       "      <th>username</th>\n",
       "      <th>follows_count</th>\n",
       "      <th>followers_count</th>\n",
       "      <th>media_count</th>\n",
       "    </tr>\n",
       "  </thead>\n",
       "  <tbody>\n",
       "    <tr>\n",
       "      <th>0</th>\n",
       "      <td>its_so_london</td>\n",
       "      <td>674</td>\n",
       "      <td>504430</td>\n",
       "      <td>3177</td>\n",
       "    </tr>\n",
       "  </tbody>\n",
       "</table>\n",
       "</div>"
      ],
      "text/plain": [
       "        username  follows_count  followers_count  media_count\n",
       "0  its_so_london            674           504430         3177"
      ]
     },
     "execution_count": 842,
     "metadata": {},
     "output_type": "execute_result"
    }
   ],
   "source": [
    "info_df"
   ]
  },
  {
   "cell_type": "markdown",
   "id": "surface-senate",
   "metadata": {},
   "source": [
    "## Get Media"
   ]
  },
  {
   "cell_type": "code",
   "execution_count": 803,
   "id": "intensive-satisfaction",
   "metadata": {},
   "outputs": [],
   "source": [
    "def get_insta_media2(username): \n",
    "    media_url =  creds['graph_domain']+creds['version']+'/'+creds['instagram_business_account_id']\n",
    "    media_params = dict() \n",
    "    media_params['fields'] =\"business_discovery.username(\"+username +\"){media{caption,comments_counts,like_count, media_type,media_url,timestamp}}\"\n",
    "    media_params['access_token'] = creds['access_token']\n",
    "    response = requests.get(media_url, media_params)\n",
    "    media_data = json.loads(response.content)\n",
    "    return media_data"
   ]
  },
  {
   "cell_type": "code",
   "execution_count": 804,
   "id": "remarkable-practitioner",
   "metadata": {},
   "outputs": [],
   "source": [
    "def get_insta_media(username, after = False, after_code = \"\"): \n",
    "    media_url =  creds['graph_domain']+creds['version']+'/'+creds['instagram_business_account_id']\n",
    "    media_params = dict() \n",
    "    if after == False: \n",
    "        media_params['fields'] =\"business_discovery.username(\"+username +\"){media{caption,comments_counts,like_count, media_type,media_url,timestamp}}\"\n",
    "    else: \n",
    "        media_params['fields'] =\"business_discovery.username(\"+username +\"){media.after(\"+ after_code +\"){caption,comments_counts,like_count, media_type,media_url,timestamp}}\"\n",
    "\n",
    "    media_params['access_token'] = creds['access_token']\n",
    "    response = requests.get(media_url, media_params)\n",
    "    media_data = json.loads(response.content)\n",
    "    return media_data"
   ]
  },
  {
   "cell_type": "code",
   "execution_count": 855,
   "id": "thousand-brother",
   "metadata": {},
   "outputs": [],
   "source": [
    "def get_all_media(username):\n",
    "    count = 0 \n",
    "    end_point= round(london_df['media_count'][0]/ 25)\n",
    "    check_point = 3\n",
    "    after_code = \"\"\n",
    "    while count < check_point:\n",
    "        username_media = {}\n",
    "        if count == 0:\n",
    "            username_media = get_insta_media(username)\n",
    "            after_code = username_media['business_discovery']['media']['paging']['cursors']['after']\n",
    "            df_media_test = pd.DataFrame.from_dict(username_media['business_discovery']['media']['data'])\n",
    "        else: \n",
    "            username_media = get_insta_media(username, True, after_code)\n",
    "            after_code = username_media['business_discovery']['media']['paging']['cursors']['after']\n",
    "            df_next = pd.DataFrame.from_dict(username_media['business_discovery']['media']['data'])\n",
    "            df_media_test = df_media_test.append(df_next, ignore_index = True)\n",
    "            print('else')\n",
    "        count += 1\n",
    "        print(count)\n",
    "    return df_media_test"
   ]
  },
  {
   "cell_type": "code",
   "execution_count": 856,
   "id": "beautiful-pasta",
   "metadata": {},
   "outputs": [
    {
     "ename": "KeyError",
     "evalue": "'business_discovery'",
     "output_type": "error",
     "traceback": [
      "\u001b[1;31m---------------------------------------------------------------------------\u001b[0m",
      "\u001b[1;31mKeyError\u001b[0m                                  Traceback (most recent call last)",
      "\u001b[1;32m<ipython-input-856-2562a2db7593>\u001b[0m in \u001b[0;36m<module>\u001b[1;34m\u001b[0m\n\u001b[1;32m----> 1\u001b[1;33m \u001b[0mmedia_df\u001b[0m \u001b[1;33m=\u001b[0m \u001b[0mget_all_media\u001b[0m\u001b[1;33m(\u001b[0m\u001b[1;34m'its_so_london'\u001b[0m\u001b[1;33m)\u001b[0m\u001b[1;33m\u001b[0m\u001b[1;33m\u001b[0m\u001b[0m\n\u001b[0m",
      "\u001b[1;32m<ipython-input-855-66acff5adb15>\u001b[0m in \u001b[0;36mget_all_media\u001b[1;34m(username)\u001b[0m\n\u001b[0;32m      8\u001b[0m         \u001b[1;32mif\u001b[0m \u001b[0mcount\u001b[0m \u001b[1;33m==\u001b[0m \u001b[1;36m0\u001b[0m\u001b[1;33m:\u001b[0m\u001b[1;33m\u001b[0m\u001b[1;33m\u001b[0m\u001b[0m\n\u001b[0;32m      9\u001b[0m             \u001b[0musername_media\u001b[0m \u001b[1;33m=\u001b[0m \u001b[0mget_insta_media\u001b[0m\u001b[1;33m(\u001b[0m\u001b[0musername\u001b[0m\u001b[1;33m)\u001b[0m\u001b[1;33m\u001b[0m\u001b[1;33m\u001b[0m\u001b[0m\n\u001b[1;32m---> 10\u001b[1;33m             \u001b[0mafter_code\u001b[0m \u001b[1;33m=\u001b[0m \u001b[0musername_media\u001b[0m\u001b[1;33m[\u001b[0m\u001b[1;34m'business_discovery'\u001b[0m\u001b[1;33m]\u001b[0m\u001b[1;33m[\u001b[0m\u001b[1;34m'media'\u001b[0m\u001b[1;33m]\u001b[0m\u001b[1;33m[\u001b[0m\u001b[1;34m'paging'\u001b[0m\u001b[1;33m]\u001b[0m\u001b[1;33m[\u001b[0m\u001b[1;34m'cursors'\u001b[0m\u001b[1;33m]\u001b[0m\u001b[1;33m[\u001b[0m\u001b[1;34m'after'\u001b[0m\u001b[1;33m]\u001b[0m\u001b[1;33m\u001b[0m\u001b[1;33m\u001b[0m\u001b[0m\n\u001b[0m\u001b[0;32m     11\u001b[0m             \u001b[0mdf_media_test\u001b[0m \u001b[1;33m=\u001b[0m \u001b[0mpd\u001b[0m\u001b[1;33m.\u001b[0m\u001b[0mDataFrame\u001b[0m\u001b[1;33m.\u001b[0m\u001b[0mfrom_dict\u001b[0m\u001b[1;33m(\u001b[0m\u001b[0musername_media\u001b[0m\u001b[1;33m[\u001b[0m\u001b[1;34m'business_discovery'\u001b[0m\u001b[1;33m]\u001b[0m\u001b[1;33m[\u001b[0m\u001b[1;34m'media'\u001b[0m\u001b[1;33m]\u001b[0m\u001b[1;33m[\u001b[0m\u001b[1;34m'data'\u001b[0m\u001b[1;33m]\u001b[0m\u001b[1;33m)\u001b[0m\u001b[1;33m\u001b[0m\u001b[1;33m\u001b[0m\u001b[0m\n\u001b[0;32m     12\u001b[0m         \u001b[1;32melse\u001b[0m\u001b[1;33m:\u001b[0m\u001b[1;33m\u001b[0m\u001b[1;33m\u001b[0m\u001b[0m\n",
      "\u001b[1;31mKeyError\u001b[0m: 'business_discovery'"
     ]
    }
   ],
   "source": [
    "media_df = get_all_media('its_so_london')\n"
   ]
  },
  {
   "cell_type": "code",
   "execution_count": 857,
   "id": "better-sheep",
   "metadata": {},
   "outputs": [
    {
     "data": {
      "text/html": [
       "<div>\n",
       "<style scoped>\n",
       "    .dataframe tbody tr th:only-of-type {\n",
       "        vertical-align: middle;\n",
       "    }\n",
       "\n",
       "    .dataframe tbody tr th {\n",
       "        vertical-align: top;\n",
       "    }\n",
       "\n",
       "    .dataframe thead th {\n",
       "        text-align: right;\n",
       "    }\n",
       "</style>\n",
       "<table border=\"1\" class=\"dataframe\">\n",
       "  <thead>\n",
       "    <tr style=\"text-align: right;\">\n",
       "      <th></th>\n",
       "      <th>caption</th>\n",
       "      <th>like_count</th>\n",
       "      <th>media_type</th>\n",
       "      <th>media_url</th>\n",
       "      <th>timestamp</th>\n",
       "      <th>id</th>\n",
       "    </tr>\n",
       "  </thead>\n",
       "  <tbody>\n",
       "    <tr>\n",
       "      <th>0</th>\n",
       "      <td>Tower Bridge 🧡 #itssolondon ( 📸 Photo shotsdr )</td>\n",
       "      <td>1492</td>\n",
       "      <td>IMAGE</td>\n",
       "      <td>https://scontent-lcy1-1.cdninstagram.com/v/t51...</td>\n",
       "      <td>2021-04-28T16:28:13+0000</td>\n",
       "      <td>18220834726014664</td>\n",
       "    </tr>\n",
       "    <tr>\n",
       "      <th>1</th>\n",
       "      <td>Hampstead ❤️ #itssolondon ( 📸 Photo ali_thewon...</td>\n",
       "      <td>7350</td>\n",
       "      <td>IMAGE</td>\n",
       "      <td>https://scontent-lcy1-1.cdninstagram.com/v/t51...</td>\n",
       "      <td>2021-04-28T09:56:37+0000</td>\n",
       "      <td>17929147177553198</td>\n",
       "    </tr>\n",
       "    <tr>\n",
       "      <th>2</th>\n",
       "      <td>Tower of London ❤️ #itssolondon ( 📸 Photo kell...</td>\n",
       "      <td>6889</td>\n",
       "      <td>IMAGE</td>\n",
       "      <td>https://scontent-lcy1-1.cdninstagram.com/v/t51...</td>\n",
       "      <td>2021-04-27T21:53:19+0000</td>\n",
       "      <td>17899879324932402</td>\n",
       "    </tr>\n",
       "    <tr>\n",
       "      <th>3</th>\n",
       "      <td>Camden Market ❤️ #itssolondon ( 📸 Photo vinime...</td>\n",
       "      <td>16090</td>\n",
       "      <td>IMAGE</td>\n",
       "      <td>https://scontent-lcy1-1.cdninstagram.com/v/t51...</td>\n",
       "      <td>2021-04-27T17:20:35+0000</td>\n",
       "      <td>17884034552307690</td>\n",
       "    </tr>\n",
       "    <tr>\n",
       "      <th>4</th>\n",
       "      <td>Crown &amp; Anchor Pub in Seven Dials ❤️ #itssolon...</td>\n",
       "      <td>7888</td>\n",
       "      <td>IMAGE</td>\n",
       "      <td>https://scontent-lcy1-1.cdninstagram.com/v/t51...</td>\n",
       "      <td>2021-04-27T10:02:58+0000</td>\n",
       "      <td>17924050009599091</td>\n",
       "    </tr>\n",
       "    <tr>\n",
       "      <th>5</th>\n",
       "      <td>St Paul's Cathedral ❤️ #itssolondon ( 📸 Photo ...</td>\n",
       "      <td>10073</td>\n",
       "      <td>IMAGE</td>\n",
       "      <td>https://scontent-lcy1-1.cdninstagram.com/v/t51...</td>\n",
       "      <td>2021-04-26T21:53:13+0000</td>\n",
       "      <td>17949884701444810</td>\n",
       "    </tr>\n",
       "    <tr>\n",
       "      <th>6</th>\n",
       "      <td>London ❤️ #itssolondon ( 📸 Photo tmnikonian )</td>\n",
       "      <td>15320</td>\n",
       "      <td>IMAGE</td>\n",
       "      <td>https://scontent-lcy1-1.cdninstagram.com/v/t51...</td>\n",
       "      <td>2021-04-26T16:14:12+0000</td>\n",
       "      <td>17905082053782999</td>\n",
       "    </tr>\n",
       "    <tr>\n",
       "      <th>7</th>\n",
       "      <td>Buckingham Palace ❤️ #itssolondon ( 📸 Photo je...</td>\n",
       "      <td>12734</td>\n",
       "      <td>IMAGE</td>\n",
       "      <td>https://scontent-lcy1-1.cdninstagram.com/v/t51...</td>\n",
       "      <td>2021-04-26T10:04:04+0000</td>\n",
       "      <td>18220390879014290</td>\n",
       "    </tr>\n",
       "    <tr>\n",
       "      <th>8</th>\n",
       "      <td>Tower Bridge 🧡 #itssolondon ( 📸 Photo rachfull...</td>\n",
       "      <td>9641</td>\n",
       "      <td>IMAGE</td>\n",
       "      <td>https://scontent-lcy1-1.cdninstagram.com/v/t51...</td>\n",
       "      <td>2021-04-25T21:55:28+0000</td>\n",
       "      <td>17936046412507862</td>\n",
       "    </tr>\n",
       "    <tr>\n",
       "      <th>9</th>\n",
       "      <td>The Sherlock Holmes 🍻 #itssolondon ( 📸 Photo l...</td>\n",
       "      <td>24402</td>\n",
       "      <td>IMAGE</td>\n",
       "      <td>https://scontent-lcy1-1.cdninstagram.com/v/t51...</td>\n",
       "      <td>2021-04-25T16:02:58+0000</td>\n",
       "      <td>18155235130150473</td>\n",
       "    </tr>\n",
       "    <tr>\n",
       "      <th>10</th>\n",
       "      <td>St Paul's Cathedral ❤️ #itssolondon ( 📸 Photo ...</td>\n",
       "      <td>19088</td>\n",
       "      <td>IMAGE</td>\n",
       "      <td>https://scontent-lcy1-1.cdninstagram.com/v/t51...</td>\n",
       "      <td>2021-04-25T10:14:25+0000</td>\n",
       "      <td>18218630980032793</td>\n",
       "    </tr>\n",
       "    <tr>\n",
       "      <th>11</th>\n",
       "      <td>🌸 Greenwich Park 🌸 #itssolondon ( 📸 Photo jeta...</td>\n",
       "      <td>32183</td>\n",
       "      <td>IMAGE</td>\n",
       "      <td>https://scontent-lcy1-1.cdninstagram.com/v/t51...</td>\n",
       "      <td>2021-04-24T22:05:31+0000</td>\n",
       "      <td>18178349290108981</td>\n",
       "    </tr>\n",
       "    <tr>\n",
       "      <th>12</th>\n",
       "      <td>London in 10 photos 😍 What are your favourites...</td>\n",
       "      <td>21591</td>\n",
       "      <td>CAROUSEL_ALBUM</td>\n",
       "      <td>https://scontent-lcy1-1.cdninstagram.com/v/t51...</td>\n",
       "      <td>2021-04-24T16:05:25+0000</td>\n",
       "      <td>17874745136360711</td>\n",
       "    </tr>\n",
       "    <tr>\n",
       "      <th>13</th>\n",
       "      <td>Old Spitalfields Market 😍 Have you ever been? ...</td>\n",
       "      <td>9803</td>\n",
       "      <td>IMAGE</td>\n",
       "      <td>https://scontent-lcy1-1.cdninstagram.com/v/t51...</td>\n",
       "      <td>2021-04-24T10:23:11+0000</td>\n",
       "      <td>17925594640562295</td>\n",
       "    </tr>\n",
       "    <tr>\n",
       "      <th>14</th>\n",
       "      <td>Trafalgar Square ❤️ #itssolondon ( 📸 Photo jef...</td>\n",
       "      <td>16996</td>\n",
       "      <td>IMAGE</td>\n",
       "      <td>https://scontent-lcy1-1.cdninstagram.com/v/t51...</td>\n",
       "      <td>2021-04-23T22:21:57+0000</td>\n",
       "      <td>18128484577170274</td>\n",
       "    </tr>\n",
       "    <tr>\n",
       "      <th>15</th>\n",
       "      <td>Soho 💙 #itssolondon ( 📸 Photo theurbanteller )</td>\n",
       "      <td>13139</td>\n",
       "      <td>IMAGE</td>\n",
       "      <td>https://scontent-lcy1-1.cdninstagram.com/v/t51...</td>\n",
       "      <td>2021-04-23T09:56:03+0000</td>\n",
       "      <td>17903016418817345</td>\n",
       "    </tr>\n",
       "    <tr>\n",
       "      <th>16</th>\n",
       "      <td>Tower Bridge 🧡 #itssolondon ( 📸 Photo sarahlau...</td>\n",
       "      <td>18107</td>\n",
       "      <td>IMAGE</td>\n",
       "      <td>https://scontent-lcy1-1.cdninstagram.com/v/t51...</td>\n",
       "      <td>2021-04-22T22:09:01+0000</td>\n",
       "      <td>17917013221646207</td>\n",
       "    </tr>\n",
       "    <tr>\n",
       "      <th>17</th>\n",
       "      <td>St Paul's Cathedral ❤️ #itssolondon ( 📸 Photo ...</td>\n",
       "      <td>11371</td>\n",
       "      <td>IMAGE</td>\n",
       "      <td>https://scontent-lcy1-1.cdninstagram.com/v/t51...</td>\n",
       "      <td>2021-04-22T15:58:50+0000</td>\n",
       "      <td>17914663171676176</td>\n",
       "    </tr>\n",
       "    <tr>\n",
       "      <th>18</th>\n",
       "      <td>Foster Books in Chiswick 📚 #itssolondon ( 📸 Ph...</td>\n",
       "      <td>14973</td>\n",
       "      <td>IMAGE</td>\n",
       "      <td>https://scontent-lcy1-1.cdninstagram.com/v/t51...</td>\n",
       "      <td>2021-04-22T10:04:24+0000</td>\n",
       "      <td>17994564286332820</td>\n",
       "    </tr>\n",
       "    <tr>\n",
       "      <th>19</th>\n",
       "      <td>Trafalgar Square ❤️ #itssolondon ( 📸 Photo ifi...</td>\n",
       "      <td>21326</td>\n",
       "      <td>IMAGE</td>\n",
       "      <td>https://scontent-lcy1-1.cdninstagram.com/v/t51...</td>\n",
       "      <td>2021-04-21T21:58:42+0000</td>\n",
       "      <td>17883520193195871</td>\n",
       "    </tr>\n",
       "    <tr>\n",
       "      <th>20</th>\n",
       "      <td>🌸 Regent's Park 🌸 #itssolondon ( 📸 Photo yaros...</td>\n",
       "      <td>12772</td>\n",
       "      <td>IMAGE</td>\n",
       "      <td>https://scontent-lcy1-1.cdninstagram.com/v/t51...</td>\n",
       "      <td>2021-04-21T15:56:57+0000</td>\n",
       "      <td>17898111028943790</td>\n",
       "    </tr>\n",
       "    <tr>\n",
       "      <th>21</th>\n",
       "      <td>Bishopsgate 💙 #itssolondon ( 📸 Photo clickophi...</td>\n",
       "      <td>14157</td>\n",
       "      <td>IMAGE</td>\n",
       "      <td>https://scontent-lcy1-1.cdninstagram.com/v/t51...</td>\n",
       "      <td>2021-04-21T10:08:22+0000</td>\n",
       "      <td>17944484362462407</td>\n",
       "    </tr>\n",
       "    <tr>\n",
       "      <th>22</th>\n",
       "      <td>City of London ❤️ #itssolondon ( 📸 Photo blair...</td>\n",
       "      <td>16767</td>\n",
       "      <td>IMAGE</td>\n",
       "      <td>https://scontent-lcy1-1.cdninstagram.com/v/t51...</td>\n",
       "      <td>2021-04-20T21:25:56+0000</td>\n",
       "      <td>17904503311821855</td>\n",
       "    </tr>\n",
       "    <tr>\n",
       "      <th>23</th>\n",
       "      <td>So excited that its_so_london has reached 500K...</td>\n",
       "      <td>13038</td>\n",
       "      <td>IMAGE</td>\n",
       "      <td>https://scontent-lcy1-1.cdninstagram.com/v/t51...</td>\n",
       "      <td>2021-04-20T16:16:02+0000</td>\n",
       "      <td>17934562861502770</td>\n",
       "    </tr>\n",
       "    <tr>\n",
       "      <th>24</th>\n",
       "      <td>Charing Cross Road ❤️ #itssolondon ( 📸 Photo c...</td>\n",
       "      <td>11914</td>\n",
       "      <td>IMAGE</td>\n",
       "      <td>https://scontent-lcy1-1.cdninstagram.com/v/t51...</td>\n",
       "      <td>2021-04-20T09:58:13+0000</td>\n",
       "      <td>17943333952465917</td>\n",
       "    </tr>\n",
       "  </tbody>\n",
       "</table>\n",
       "</div>"
      ],
      "text/plain": [
       "                                              caption  like_count  \\\n",
       "0     Tower Bridge 🧡 #itssolondon ( 📸 Photo shotsdr )        1492   \n",
       "1   Hampstead ❤️ #itssolondon ( 📸 Photo ali_thewon...        7350   \n",
       "2   Tower of London ❤️ #itssolondon ( 📸 Photo kell...        6889   \n",
       "3   Camden Market ❤️ #itssolondon ( 📸 Photo vinime...       16090   \n",
       "4   Crown & Anchor Pub in Seven Dials ❤️ #itssolon...        7888   \n",
       "5   St Paul's Cathedral ❤️ #itssolondon ( 📸 Photo ...       10073   \n",
       "6       London ❤️ #itssolondon ( 📸 Photo tmnikonian )       15320   \n",
       "7   Buckingham Palace ❤️ #itssolondon ( 📸 Photo je...       12734   \n",
       "8   Tower Bridge 🧡 #itssolondon ( 📸 Photo rachfull...        9641   \n",
       "9   The Sherlock Holmes 🍻 #itssolondon ( 📸 Photo l...       24402   \n",
       "10  St Paul's Cathedral ❤️ #itssolondon ( 📸 Photo ...       19088   \n",
       "11  🌸 Greenwich Park 🌸 #itssolondon ( 📸 Photo jeta...       32183   \n",
       "12  London in 10 photos 😍 What are your favourites...       21591   \n",
       "13  Old Spitalfields Market 😍 Have you ever been? ...        9803   \n",
       "14  Trafalgar Square ❤️ #itssolondon ( 📸 Photo jef...       16996   \n",
       "15     Soho 💙 #itssolondon ( 📸 Photo theurbanteller )       13139   \n",
       "16  Tower Bridge 🧡 #itssolondon ( 📸 Photo sarahlau...       18107   \n",
       "17  St Paul's Cathedral ❤️ #itssolondon ( 📸 Photo ...       11371   \n",
       "18  Foster Books in Chiswick 📚 #itssolondon ( 📸 Ph...       14973   \n",
       "19  Trafalgar Square ❤️ #itssolondon ( 📸 Photo ifi...       21326   \n",
       "20  🌸 Regent's Park 🌸 #itssolondon ( 📸 Photo yaros...       12772   \n",
       "21  Bishopsgate 💙 #itssolondon ( 📸 Photo clickophi...       14157   \n",
       "22  City of London ❤️ #itssolondon ( 📸 Photo blair...       16767   \n",
       "23  So excited that its_so_london has reached 500K...       13038   \n",
       "24  Charing Cross Road ❤️ #itssolondon ( 📸 Photo c...       11914   \n",
       "\n",
       "        media_type                                          media_url  \\\n",
       "0            IMAGE  https://scontent-lcy1-1.cdninstagram.com/v/t51...   \n",
       "1            IMAGE  https://scontent-lcy1-1.cdninstagram.com/v/t51...   \n",
       "2            IMAGE  https://scontent-lcy1-1.cdninstagram.com/v/t51...   \n",
       "3            IMAGE  https://scontent-lcy1-1.cdninstagram.com/v/t51...   \n",
       "4            IMAGE  https://scontent-lcy1-1.cdninstagram.com/v/t51...   \n",
       "5            IMAGE  https://scontent-lcy1-1.cdninstagram.com/v/t51...   \n",
       "6            IMAGE  https://scontent-lcy1-1.cdninstagram.com/v/t51...   \n",
       "7            IMAGE  https://scontent-lcy1-1.cdninstagram.com/v/t51...   \n",
       "8            IMAGE  https://scontent-lcy1-1.cdninstagram.com/v/t51...   \n",
       "9            IMAGE  https://scontent-lcy1-1.cdninstagram.com/v/t51...   \n",
       "10           IMAGE  https://scontent-lcy1-1.cdninstagram.com/v/t51...   \n",
       "11           IMAGE  https://scontent-lcy1-1.cdninstagram.com/v/t51...   \n",
       "12  CAROUSEL_ALBUM  https://scontent-lcy1-1.cdninstagram.com/v/t51...   \n",
       "13           IMAGE  https://scontent-lcy1-1.cdninstagram.com/v/t51...   \n",
       "14           IMAGE  https://scontent-lcy1-1.cdninstagram.com/v/t51...   \n",
       "15           IMAGE  https://scontent-lcy1-1.cdninstagram.com/v/t51...   \n",
       "16           IMAGE  https://scontent-lcy1-1.cdninstagram.com/v/t51...   \n",
       "17           IMAGE  https://scontent-lcy1-1.cdninstagram.com/v/t51...   \n",
       "18           IMAGE  https://scontent-lcy1-1.cdninstagram.com/v/t51...   \n",
       "19           IMAGE  https://scontent-lcy1-1.cdninstagram.com/v/t51...   \n",
       "20           IMAGE  https://scontent-lcy1-1.cdninstagram.com/v/t51...   \n",
       "21           IMAGE  https://scontent-lcy1-1.cdninstagram.com/v/t51...   \n",
       "22           IMAGE  https://scontent-lcy1-1.cdninstagram.com/v/t51...   \n",
       "23           IMAGE  https://scontent-lcy1-1.cdninstagram.com/v/t51...   \n",
       "24           IMAGE  https://scontent-lcy1-1.cdninstagram.com/v/t51...   \n",
       "\n",
       "                   timestamp                 id  \n",
       "0   2021-04-28T16:28:13+0000  18220834726014664  \n",
       "1   2021-04-28T09:56:37+0000  17929147177553198  \n",
       "2   2021-04-27T21:53:19+0000  17899879324932402  \n",
       "3   2021-04-27T17:20:35+0000  17884034552307690  \n",
       "4   2021-04-27T10:02:58+0000  17924050009599091  \n",
       "5   2021-04-26T21:53:13+0000  17949884701444810  \n",
       "6   2021-04-26T16:14:12+0000  17905082053782999  \n",
       "7   2021-04-26T10:04:04+0000  18220390879014290  \n",
       "8   2021-04-25T21:55:28+0000  17936046412507862  \n",
       "9   2021-04-25T16:02:58+0000  18155235130150473  \n",
       "10  2021-04-25T10:14:25+0000  18218630980032793  \n",
       "11  2021-04-24T22:05:31+0000  18178349290108981  \n",
       "12  2021-04-24T16:05:25+0000  17874745136360711  \n",
       "13  2021-04-24T10:23:11+0000  17925594640562295  \n",
       "14  2021-04-23T22:21:57+0000  18128484577170274  \n",
       "15  2021-04-23T09:56:03+0000  17903016418817345  \n",
       "16  2021-04-22T22:09:01+0000  17917013221646207  \n",
       "17  2021-04-22T15:58:50+0000  17914663171676176  \n",
       "18  2021-04-22T10:04:24+0000  17994564286332820  \n",
       "19  2021-04-21T21:58:42+0000  17883520193195871  \n",
       "20  2021-04-21T15:56:57+0000  17898111028943790  \n",
       "21  2021-04-21T10:08:22+0000  17944484362462407  \n",
       "22  2021-04-20T21:25:56+0000  17904503311821855  \n",
       "23  2021-04-20T16:16:02+0000  17934562861502770  \n",
       "24  2021-04-20T09:58:13+0000  17943333952465917  "
      ]
     },
     "execution_count": 857,
     "metadata": {},
     "output_type": "execute_result"
    }
   ],
   "source": [
    "media_df"
   ]
  },
  {
   "cell_type": "markdown",
   "id": "skilled-compensation",
   "metadata": {},
   "source": [
    "## Putting everything together"
   ]
  },
  {
   "cell_type": "code",
   "execution_count": 798,
   "id": "turned-rates",
   "metadata": {},
   "outputs": [],
   "source": [
    "df_my_data = pd.concat([info_df,media_df])"
   ]
  },
  {
   "cell_type": "code",
   "execution_count": 799,
   "id": "featured-controversy",
   "metadata": {},
   "outputs": [],
   "source": [
    "df_my_data = df_my_data.reset_index(drop = True)"
   ]
  },
  {
   "cell_type": "code",
   "execution_count": 800,
   "id": "adjacent-associate",
   "metadata": {},
   "outputs": [
    {
     "data": {
      "text/plain": [
       "'london'"
      ]
     },
     "execution_count": 800,
     "metadata": {},
     "output_type": "execute_result"
    }
   ],
   "source": [
    "df_my_data['username'][0]"
   ]
  },
  {
   "cell_type": "code",
   "execution_count": 801,
   "id": "atomic-syracuse",
   "metadata": {},
   "outputs": [],
   "source": [
    "df_my_data.loc[:,'username'] = df_my_data['username'][0]"
   ]
  },
  {
   "cell_type": "code",
   "execution_count": 813,
   "id": "gothic-crown",
   "metadata": {},
   "outputs": [],
   "source": [
    "df_my_data.loc[:,'follows_count'] = df_my_data['follows_count'][0]\n",
    "df_my_data.loc[:,'followers_count'] = df_my_data['followers_count'][0]\n",
    "df_my_data.loc[:,'media_count'] = df_my_data['media_count'][0]"
   ]
  },
  {
   "cell_type": "code",
   "execution_count": 818,
   "id": "another-antenna",
   "metadata": {},
   "outputs": [],
   "source": [
    "df_my_data['media_url'][1]"
   ]
  },
  {
   "cell_type": "code",
   "execution_count": 816,
   "id": "southeast-sunglasses",
   "metadata": {},
   "outputs": [],
   "source": [
    "df_my_data.to_csv('finished_data.csv')"
   ]
  },
  {
   "cell_type": "code",
   "execution_count": 821,
   "id": "specified-peninsula",
   "metadata": {},
   "outputs": [],
   "source": [
    "import webbrowser"
   ]
  },
  {
   "cell_type": "code",
   "execution_count": 822,
   "id": "governmental-madison",
   "metadata": {},
   "outputs": [
    {
     "data": {
      "text/plain": [
       "True"
      ]
     },
     "execution_count": 822,
     "metadata": {},
     "output_type": "execute_result"
    }
   ],
   "source": [
    "url = df_my_data['media_url'][1]\n",
    "webbrowser.open(url)"
   ]
  },
  {
   "cell_type": "code",
   "execution_count": null,
   "id": "otherwise-incidence",
   "metadata": {},
   "outputs": [],
   "source": []
  }
 ],
 "metadata": {
  "kernelspec": {
   "display_name": "Python 3",
   "language": "python",
   "name": "python3"
  },
  "language_info": {
   "codemirror_mode": {
    "name": "ipython",
    "version": 3
   },
   "file_extension": ".py",
   "mimetype": "text/x-python",
   "name": "python",
   "nbconvert_exporter": "python",
   "pygments_lexer": "ipython3",
   "version": "3.8.8"
  },
  "toc": {
   "base_numbering": 1,
   "nav_menu": {},
   "number_sections": true,
   "sideBar": true,
   "skip_h1_title": false,
   "title_cell": "Table of Contents",
   "title_sidebar": "Contents",
   "toc_cell": false,
   "toc_position": {},
   "toc_section_display": true,
   "toc_window_display": false
  },
  "varInspector": {
   "cols": {
    "lenName": 16,
    "lenType": 16,
    "lenVar": 40
   },
   "kernels_config": {
    "python": {
     "delete_cmd_postfix": "",
     "delete_cmd_prefix": "del ",
     "library": "var_list.py",
     "varRefreshCmd": "print(var_dic_list())"
    },
    "r": {
     "delete_cmd_postfix": ") ",
     "delete_cmd_prefix": "rm(",
     "library": "var_list.r",
     "varRefreshCmd": "cat(var_dic_list()) "
    }
   },
   "types_to_exclude": [
    "module",
    "function",
    "builtin_function_or_method",
    "instance",
    "_Feature"
   ],
   "window_display": false
  }
 },
 "nbformat": 4,
 "nbformat_minor": 5
}
